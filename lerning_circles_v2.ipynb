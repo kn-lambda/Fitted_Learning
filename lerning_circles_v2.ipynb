{
 "cells": [
  {
   "cell_type": "markdown",
   "metadata": {},
   "source": [
    "# An experiment of \"fitted lerning\" "
   ]
  },
  {
   "cell_type": "code",
   "execution_count": 1,
   "metadata": {
    "collapsed": true
   },
   "outputs": [],
   "source": [
    "import chainer\n",
    "from chainer import functions as F\n",
    "from chainer import links as L\n",
    "from chainer import Chain\n",
    "from chainer import training, iterators, optimizers\n",
    "from chainer.datasets import TupleDataset\n",
    "from chainer.training import extensions\n",
    "from chainer import cuda"
   ]
  },
  {
   "cell_type": "code",
   "execution_count": 2,
   "metadata": {
    "collapsed": true
   },
   "outputs": [],
   "source": [
    "from PIL import Image, ImageDraw"
   ]
  },
  {
   "cell_type": "code",
   "execution_count": 3,
   "metadata": {
    "collapsed": true
   },
   "outputs": [],
   "source": [
    "import numpy as np"
   ]
  },
  {
   "cell_type": "code",
   "execution_count": 4,
   "metadata": {
    "collapsed": true
   },
   "outputs": [],
   "source": [
    "uses_device = 0\n",
    "if uses_device >= 0:\n",
    "    cuda.get_device_from_id(0).use()\n",
    "    cuda.check_cuda_available()\n",
    "    import cupy as cp\n",
    "else:\n",
    "    cp = np"
   ]
  },
  {
   "cell_type": "markdown",
   "metadata": {},
   "source": [
    "# Train Data"
   ]
  },
  {
   "cell_type": "code",
   "execution_count": 5,
   "metadata": {
    "collapsed": true
   },
   "outputs": [],
   "source": [
    "def generate_circles(radii, n_points):\n",
    "    \"\"\"\n",
    "    This function generates points of circles.\n",
    "    \n",
    "    Input \n",
    "        radii    : a list of three radii of the circles\n",
    "                   The number of elements must be three corresponding to RGB which will be displayed later.\n",
    "        n_points : the number of points generated per radius\n",
    "    Outpot\n",
    "        tuple of numpy array : (points of cordinates, labels corresponding to radii)\n",
    "                               label 'i' corresponds to radii[i]\n",
    "    \"\"\"\n",
    "    \n",
    "    if len(radii) != 3:\n",
    "        raise Exception(\"len(radii) must be 3\")\n",
    "    \n",
    "    angles = np.linspace(0, 2*np.pi, n_points)\n",
    "\n",
    "    X = np.array([])\n",
    "    Y = np.array([])\n",
    "    T = np.array([])\n",
    "\n",
    "    x1 = np.cos(angles)\n",
    "    y1 = np.sin(angles)\n",
    "    \n",
    "    label = 0\n",
    "    for r in radii:\n",
    "        xr = r * x1\n",
    "        yr = r * y1\n",
    "        tr = np.array([label] * n_points)\n",
    "        X = np.append(X, xr)\n",
    "        Y = np.append(Y, yr)\n",
    "        T = np.append(T, tr)\n",
    "        label += 1\n",
    "        \n",
    "    n_elements = X.shape[0]\n",
    "    X = X.reshape(1, n_elements)\n",
    "    Y = Y.reshape(1, n_elements)\n",
    "    P = np.concatenate([X, Y]).transpose()\n",
    "    \n",
    "    return P.astype(np.float32), T.astype(np.int32)"
   ]
  },
  {
   "cell_type": "code",
   "execution_count": 6,
   "metadata": {
    "collapsed": true
   },
   "outputs": [],
   "source": [
    "#use in NN-class\n",
    "def convert_onehot(labels_arr):\n",
    "    \"\"\"\n",
    "    This function converts labels to one-hot representation.\n",
    "    Used in NN classes.\n",
    "    \n",
    "    Input \n",
    "        labels_arr : array of labels\n",
    "    Output\n",
    "        numpy or cupy array of one-hot represented labels\n",
    "    \"\"\"\n",
    "    target = labels_arr.flatten()\n",
    "    n_labels = int(cp.max(target) + 1)\n",
    "    return cp.eye(n_labels, dtype=cp.float32)[target]"
   ]
  },
  {
   "cell_type": "code",
   "execution_count": 7,
   "metadata": {
    "collapsed": true
   },
   "outputs": [],
   "source": [
    "#use in NN-class\n",
    "def duplicate_DOO(in_arr, DOO):\n",
    "    \"\"\"\n",
    "    This function duplicates input array by DOO in the direction of axis=1, and then divides them by DOO.\n",
    "    Used in NN clases.\n",
    "    \n",
    "    Input \n",
    "        in_arr : array of one-hot represented labels\n",
    "        DOO    : an integer representing competing nuerons in one aggregate (Degree Of Overcomletenes)  \n",
    "    Output\n",
    "        numpy or cupy array of duplicated representation\n",
    "    \"\"\"\n",
    "    batch_size = in_arr.shape[0]\n",
    "    arr_org = in_arr.reshape(batch_size, -1)\n",
    "    length = arr_org.shape[1]\n",
    "    \n",
    "    arr = cp.empty((batch_size, 0), dtype=cp.int32)\n",
    "    for i in range(length):\n",
    "        col = arr_org[:,i].reshape(batch_size, -1)\n",
    "        for _ in range(DOO):\n",
    "            arr = cp.concatenate((arr, col), axis=1)\n",
    "    \n",
    "    return arr.astype(cp.float32) / DOO"
   ]
  },
  {
   "cell_type": "markdown",
   "metadata": {},
   "source": [
    "## genarate data "
   ]
  },
  {
   "cell_type": "code",
   "execution_count": 8,
   "metadata": {
    "collapsed": true
   },
   "outputs": [],
   "source": [
    "radii = [0.25, 0.5, 1.0]\n",
    "n_classes = len(radii)\n",
    "n_points = 10000"
   ]
  },
  {
   "cell_type": "code",
   "execution_count": 9,
   "metadata": {
    "collapsed": true
   },
   "outputs": [],
   "source": [
    "P, T = generate_circles(radii, n_points)\n",
    "if uses_device >= 0:\n",
    "    P = cuda.to_gpu(P)\n",
    "    T = cuda.to_gpu(T)\n",
    "train = TupleDataset(P, T)"
   ]
  },
  {
   "cell_type": "markdown",
   "metadata": {},
   "source": [
    "# models "
   ]
  },
  {
   "cell_type": "markdown",
   "metadata": {},
   "source": [
    "## Cool Nueral Net models "
   ]
  },
  {
   "cell_type": "code",
   "execution_count": 10,
   "metadata": {
    "collapsed": true
   },
   "outputs": [],
   "source": [
    "class CoolNN_v1(Chain):\n",
    "    \n",
    "    def __init__(self, DOO):\n",
    "        super(CoolNN_v1, self).__init__()\n",
    "        self.DOO = DOO\n",
    "        \n",
    "        with self.init_scope():\n",
    "            self.l1 = L.Linear(2, 64)\n",
    "            self.l2 = L.Linear(64, 128)\n",
    "            self.l3 = L.Linear(128, 128)\n",
    "            self.l4 = L.Linear(128, 128)\n",
    "            \n",
    "            self.lc0 = L.Linear(128, DOO)\n",
    "            self.lc1 = L.Linear(128, DOO)\n",
    "            self.lc2 = L.Linear(128, DOO)\n",
    "            \n",
    "            \n",
    "    def __call__(self, x, t=None, train=True):\n",
    "        h1 = F.relu(self.l1(x))\n",
    "        h2 = F.relu(self.l2(h1))\n",
    "        h3 = F.relu(self.l3(h2))\n",
    "        h4 = F.relu(self.l4(h3))\n",
    "        \n",
    "        p0 = F.prod(self.DOO * F.softmax(self.lc0(h4)), axis=1)\n",
    "        p1 = F.prod(self.DOO * F.softmax(self.lc1(h4)), axis=1)\n",
    "        p2 = F.prod(self.DOO * F.softmax(self.lc2(h4)), axis=1)\n",
    "        \n",
    "        p = [p0, p1, p2]\n",
    "        \n",
    "        if train:\n",
    "            t = convert_onehot(t)\n",
    "            if len(p) != t.shape[1]:\n",
    "                raise Exception(\"number of labels unmatched\")\n",
    "                \n",
    "            n_labels = len(p)\n",
    "            loss = 0\n",
    "            for i in range(n_labels):\n",
    "                loss -= F.sum(t[:,i] * F.log(1e-30 + p[i]) + (1 - t[:,i]) * F.log(1e-30 + 1 - p[i])) # do not work\n",
    "                #loss += F.mean_squared_error(p[i], t[:,i])\n",
    "                #loss += F.mean_absolute_error(p[i], t[:,i]) # do not work\n",
    "            #print(loss.data)\n",
    "            return loss\n",
    "        \n",
    "        else:\n",
    "            return F.concat((p0.reshape(-1,1), p1.reshape(-1, 1), p2.reshape(-1, 1)), axis=1)\n",
    "        "
   ]
  },
  {
   "cell_type": "markdown",
   "metadata": {},
   "source": [
    "## function to draw image"
   ]
  },
  {
   "cell_type": "code",
   "execution_count": 11,
   "metadata": {
    "collapsed": true
   },
   "outputs": [],
   "source": [
    "def draw_result(model):\n",
    "    \"\"\"\n",
    "    This function shows the decision boudaries of the model.\n",
    "    \n",
    "    Input \n",
    "        model : trained model\n",
    "    Output\n",
    "        Image of the decision boundaries\n",
    "    \n",
    "    global variable\n",
    "        radii\n",
    "    \"\"\"\n",
    "    \n",
    "    x_min, x_max = -2, 2\n",
    "    y_min, y_max = x_min, x_max\n",
    "    h = 0.01\n",
    "    \n",
    "    xx, yy = np.meshgrid(np.arange(x_min, x_max, h), np.arange(y_min, y_max, h))\n",
    "    grid_points = np.c_[xx.flatten(), yy.flatten()].astype(np.float32)\n",
    "    if uses_device >= 0:\n",
    "        grid_points = cuda.to_gpu(grid_points) \n",
    "        \n",
    "    res = model(grid_points, train=False).data\n",
    "    res = cuda.to_cpu(res)\n",
    "    res = res.reshape(xx.shape + (3, ))\n",
    "    img = Image.fromarray((255 * res).astype(np.uint8))\n",
    "\n",
    "    draw = ImageDraw.Draw(img)\n",
    "    unit_pix = img.size[0] / (x_max - x_min)\n",
    "    \n",
    "    for r in radii:\n",
    "        d = r * unit_pix\n",
    "        draw.ellipse((200-d, 200-d, 200+d, 200+d), outline=(255, 255, 255))\n",
    "     \n",
    "    return img"
   ]
  },
  {
   "cell_type": "markdown",
   "metadata": {},
   "source": [
    "# Experiments"
   ]
  },
  {
   "cell_type": "code",
   "execution_count": 13,
   "metadata": {
    "collapsed": true
   },
   "outputs": [],
   "source": [
    "DOO = 40\n",
    "model = CoolNN_v1(DOO)\n",
    "if uses_device >= 0:\n",
    "    model.to_gpu()"
   ]
  },
  {
   "cell_type": "code",
   "execution_count": 14,
   "metadata": {
    "collapsed": true
   },
   "outputs": [],
   "source": [
    "batch_size = 500\n",
    "train_iter = iterators.SerialIterator(train, batch_size=batch_size, shuffle=True)"
   ]
  },
  {
   "cell_type": "code",
   "execution_count": 15,
   "metadata": {
    "collapsed": true
   },
   "outputs": [],
   "source": [
    "optimizer = optimizers.Adam()\n",
    "optimizer.setup(model)"
   ]
  },
  {
   "cell_type": "code",
   "execution_count": 16,
   "metadata": {
    "collapsed": true
   },
   "outputs": [],
   "source": [
    "n_epoch = 20\n",
    "updater = training.StandardUpdater(train_iter, optimizer, device=uses_device)\n",
    "trainer = training.Trainer(updater, (n_epoch, 'epoch'), out='result')\n",
    "trainer.extend(extensions.ProgressBar())"
   ]
  },
  {
   "cell_type": "code",
   "execution_count": 17,
   "metadata": {},
   "outputs": [
    {
     "name": "stdout",
     "output_type": "stream",
     "text": [
      "\u001b[J     total [####..............................................]  8.33%\n",
      "this epoch [#################################.................] 66.67%\n",
      "       100 iter, 1 epoch / 20 epochs\n",
      "       inf iters/sec. Estimated time to finish: 0:00:00.\n",
      "\u001b[4A\u001b[J     total [########..........................................] 16.67%\n",
      "this epoch [################..................................] 33.33%\n",
      "       200 iter, 3 epoch / 20 epochs\n",
      "    14.556 iters/sec. Estimated time to finish: 0:01:08.699648.\n",
      "\u001b[4A\u001b[J     total [############......................................] 25.00%\n",
      "this epoch [..................................................]  0.00%\n",
      "       300 iter, 5 epoch / 20 epochs\n",
      "    14.574 iters/sec. Estimated time to finish: 0:01:01.754835.\n",
      "\u001b[4A\u001b[J     total [################..................................] 33.33%\n",
      "this epoch [#################################.................] 66.67%\n",
      "       400 iter, 6 epoch / 20 epochs\n",
      "    14.747 iters/sec. Estimated time to finish: 0:00:54.247801.\n",
      "\u001b[4A\u001b[J     total [####################..............................] 41.67%\n",
      "this epoch [################..................................] 33.33%\n",
      "       500 iter, 8 epoch / 20 epochs\n",
      "    14.723 iters/sec. Estimated time to finish: 0:00:47.545373.\n",
      "\u001b[4A\u001b[J     total [#########################.........................] 50.00%\n",
      "this epoch [..................................................]  0.00%\n",
      "       600 iter, 10 epoch / 20 epochs\n",
      "    14.765 iters/sec. Estimated time to finish: 0:00:40.637976.\n",
      "\u001b[4A\u001b[J     total [#############################.....................] 58.33%\n",
      "this epoch [#################################.................] 66.67%\n",
      "       700 iter, 11 epoch / 20 epochs\n",
      "    14.707 iters/sec. Estimated time to finish: 0:00:33.996746.\n",
      "\u001b[4A\u001b[J     total [#################################.................] 66.67%\n",
      "this epoch [################..................................] 33.33%\n",
      "       800 iter, 13 epoch / 20 epochs\n",
      "    14.678 iters/sec. Estimated time to finish: 0:00:27.251168.\n",
      "\u001b[4A\u001b[J     total [#####################################.............] 75.00%\n",
      "this epoch [..................................................]  0.00%\n",
      "       900 iter, 15 epoch / 20 epochs\n",
      "    14.687 iters/sec. Estimated time to finish: 0:00:20.426540.\n",
      "\u001b[4A\u001b[J     total [#########################################.........] 83.33%\n",
      "this epoch [#################################.................] 66.67%\n",
      "      1000 iter, 16 epoch / 20 epochs\n",
      "    14.723 iters/sec. Estimated time to finish: 0:00:13.584057.\n",
      "\u001b[4A\u001b[J     total [#############################################.....] 91.67%\n",
      "this epoch [################..................................] 33.33%\n",
      "      1100 iter, 18 epoch / 20 epochs\n",
      "    14.724 iters/sec. Estimated time to finish: 0:00:06.791583.\n",
      "\u001b[4A\u001b[J     total [##################################################] 100.00%\n",
      "this epoch [..................................................]  0.00%\n",
      "      1200 iter, 20 epoch / 20 epochs\n",
      "    14.785 iters/sec. Estimated time to finish: 0:00:00.\n",
      "\u001b[4A\u001b[J"
     ]
    }
   ],
   "source": [
    "trainer.run()"
   ]
  },
  {
   "cell_type": "markdown",
   "metadata": {},
   "source": [
    "# Results"
   ]
  },
  {
   "cell_type": "code",
   "execution_count": 18,
   "metadata": {},
   "outputs": [
    {
     "data": {
      "image/png": "[encoded data removed]",
      "text/plain": [
       "<PIL.Image.Image image mode=RGB size=400x400 at 0x7FF45D0AEBE0>"
      ]
     },
     "execution_count": 18,
     "metadata": {},
     "output_type": "execute_result"
    }
   ],
   "source": [
    "# CoolNN_v1 1e-30\n",
    "draw_result(model)"
   ]
  },
  {
   "cell_type": "raw",
   "metadata": {
    "collapsed": true
   },
   "source": [
    "in log added 1e-30"
   ]
  }
 ],
 "metadata": {
  "kernelspec": {
   "display_name": "Python 3",
   "language": "python",
   "name": "python3"
  },
  "language_info": {
   "codemirror_mode": {
    "name": "ipython",
    "version": 3
   },
   "file_extension": ".py",
   "mimetype": "text/x-python",
   "name": "python",
   "nbconvert_exporter": "python",
   "pygments_lexer": "ipython3",
   "version": "3.6.3"
  }
 },
 "nbformat": 4,
 "nbformat_minor": 2
}
